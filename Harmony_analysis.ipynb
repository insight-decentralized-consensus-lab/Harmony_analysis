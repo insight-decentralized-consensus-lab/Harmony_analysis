{
 "cells": [
  {
   "cell_type": "markdown",
   "metadata": {},
   "source": [
    "# Harmony analysis\n",
    "\n",
    "Mitchell / Isthmus\n",
    "\n",
    "Last 24 hours"
   ]
  },
  {
   "cell_type": "markdown",
   "metadata": {},
   "source": [
    "## Import libraries"
   ]
  },
  {
   "cell_type": "code",
   "execution_count": 1,
   "metadata": {},
   "outputs": [],
   "source": [
    "import pandas as pd;\n",
    "import numpy as np;\n",
    "import matplotlib.pyplot as plt;\n",
    "from matplotlib.ticker import PercentFormatter;"
   ]
  },
  {
   "cell_type": "markdown",
   "metadata": {},
   "source": [
    "## Import data"
   ]
  },
  {
   "cell_type": "code",
   "execution_count": 2,
   "metadata": {},
   "outputs": [
    {
     "data": {
      "text/html": [
       "<div>\n",
       "<style scoped>\n",
       "    .dataframe tbody tr th:only-of-type {\n",
       "        vertical-align: middle;\n",
       "    }\n",
       "\n",
       "    .dataframe tbody tr th {\n",
       "        vertical-align: top;\n",
       "    }\n",
       "\n",
       "    .dataframe thead th {\n",
       "        text-align: right;\n",
       "    }\n",
       "</style>\n",
       "<table border=\"1\" class=\"dataframe\">\n",
       "  <thead>\n",
       "    <tr style=\"text-align: right;\">\n",
       "      <th></th>\n",
       "      <th>from_address</th>\n",
       "      <th>to_address</th>\n",
       "      <th>txn_value</th>\n",
       "    </tr>\n",
       "  </thead>\n",
       "  <tbody>\n",
       "    <tr>\n",
       "      <th>0</th>\n",
       "      <td>one1e...hs206</td>\n",
       "      <td>one1w...2xt26</td>\n",
       "      <td>1.228590e+06</td>\n",
       "    </tr>\n",
       "    <tr>\n",
       "      <th>1</th>\n",
       "      <td>one18...zp09d</td>\n",
       "      <td>one1w...2xt26</td>\n",
       "      <td>3.071995e+06</td>\n",
       "    </tr>\n",
       "    <tr>\n",
       "      <th>2</th>\n",
       "      <td>one1t...2r54m</td>\n",
       "      <td>one10...p6gwz</td>\n",
       "      <td>1.200000e+01</td>\n",
       "    </tr>\n",
       "    <tr>\n",
       "      <th>3</th>\n",
       "      <td>one1w...2xt26</td>\n",
       "      <td>one10...qewsp</td>\n",
       "      <td>2.624584e+05</td>\n",
       "    </tr>\n",
       "    <tr>\n",
       "      <th>4</th>\n",
       "      <td>one1w...2xt26</td>\n",
       "      <td>one1u...ndaw4</td>\n",
       "      <td>7.223084e+04</td>\n",
       "    </tr>\n",
       "  </tbody>\n",
       "</table>\n",
       "</div>"
      ],
      "text/plain": [
       "    from_address     to_address     txn_value\n",
       "0  one1e...hs206  one1w...2xt26  1.228590e+06\n",
       "1  one18...zp09d  one1w...2xt26  3.071995e+06\n",
       "2  one1t...2r54m  one10...p6gwz  1.200000e+01\n",
       "3  one1w...2xt26  one10...qewsp  2.624584e+05\n",
       "4  one1w...2xt26  one1u...ndaw4  7.223084e+04"
      ]
     },
     "execution_count": 2,
     "metadata": {},
     "output_type": "execute_result"
    }
   ],
   "source": [
    "df = pd.read_csv('harmony_24_v2.csv', usecols=['from_address','to_address', 'txn_value']);\n",
    "df.head()"
   ]
  },
  {
   "cell_type": "markdown",
   "metadata": {},
   "source": [
    "## Group by address"
   ]
  },
  {
   "cell_type": "markdown",
   "metadata": {},
   "source": [
    "I don't think the next cell works "
   ]
  },
  {
   "cell_type": "code",
   "execution_count": 33,
   "metadata": {},
   "outputs": [],
   "source": [
    "from_temp = df[['from_address', 'txn_value']]\n",
    "df_sorted_from = from_temp.groupby(['from_address','txn_value']).sum().sort_values(by='txn_value', ascending=False)\n",
    "\n",
    "to_temp = df[['to_address', 'txn_value']]\n",
    "df_sorted_to = to_temp.groupby(['to_address','txn_value']).sum().sort_values(by='txn_value', ascending=False)"
   ]
  },
  {
   "cell_type": "markdown",
   "metadata": {},
   "source": [
    "## Analyze"
   ]
  },
  {
   "cell_type": "markdown",
   "metadata": {},
   "source": [
    "### Total txn value"
   ]
  },
  {
   "cell_type": "code",
   "execution_count": 38,
   "metadata": {},
   "outputs": [
    {
     "name": "stdout",
     "output_type": "stream",
     "text": [
      "Total transaction volume: 132667951 ONE\n",
      "Total transaction volume: 1459347 USF\n"
     ]
    }
   ],
   "source": [
    "ONE_USD = 0.011\n",
    "total_value = sum(from_temp['txn_value'])\n",
    "print('Total transaction volume: ' + str(round(total_value)) + ' ONE')\n",
    "print('Total transaction volume: ' + str(round(total_value*ONE_USD)) + ' USF')"
   ]
  },
  {
   "cell_type": "markdown",
   "metadata": {},
   "source": [
    "### Txn value distribution\n",
    "\n"
   ]
  },
  {
   "cell_type": "code",
   "execution_count": 42,
   "metadata": {},
   "outputs": [],
   "source": [
    "frac = list()\n",
    "for r in range(len(df)):\n",
    "    this_val = df['txn_value'][r] \n",
    "    frac.append(this_val/total_value)\n",
    "    \n",
    "df['frac_vol'] = frac"
   ]
  },
  {
   "cell_type": "code",
   "execution_count": 51,
   "metadata": {},
   "outputs": [
    {
     "data": {
      "text/html": [
       "<div>\n",
       "<style scoped>\n",
       "    .dataframe tbody tr th:only-of-type {\n",
       "        vertical-align: middle;\n",
       "    }\n",
       "\n",
       "    .dataframe tbody tr th {\n",
       "        vertical-align: top;\n",
       "    }\n",
       "\n",
       "    .dataframe thead th {\n",
       "        text-align: right;\n",
       "    }\n",
       "</style>\n",
       "<table border=\"1\" class=\"dataframe\">\n",
       "  <thead>\n",
       "    <tr style=\"text-align: right;\">\n",
       "      <th></th>\n",
       "      <th>from_address</th>\n",
       "      <th>to_address</th>\n",
       "      <th>txn_value</th>\n",
       "      <th>frac_vol</th>\n",
       "    </tr>\n",
       "  </thead>\n",
       "  <tbody>\n",
       "    <tr>\n",
       "      <th>1269</th>\n",
       "      <td>one1e...2uqv7</td>\n",
       "      <td>one1q...75u46</td>\n",
       "      <td>6000000.0</td>\n",
       "      <td>0.045226</td>\n",
       "    </tr>\n",
       "    <tr>\n",
       "      <th>402</th>\n",
       "      <td>one17...r3kws</td>\n",
       "      <td>one1w...2xt26</td>\n",
       "      <td>5005062.3</td>\n",
       "      <td>0.037726</td>\n",
       "    </tr>\n",
       "    <tr>\n",
       "      <th>523</th>\n",
       "      <td>one13...gecgr</td>\n",
       "      <td>one1w...2xt26</td>\n",
       "      <td>5000000.0</td>\n",
       "      <td>0.037688</td>\n",
       "    </tr>\n",
       "    <tr>\n",
       "      <th>329</th>\n",
       "      <td>one1p...af0fu</td>\n",
       "      <td>one1c...2tk3x</td>\n",
       "      <td>4121333.0</td>\n",
       "      <td>0.031065</td>\n",
       "    </tr>\n",
       "    <tr>\n",
       "      <th>345</th>\n",
       "      <td>one12...p38yr</td>\n",
       "      <td>one1m...kvnag</td>\n",
       "      <td>3671843.0</td>\n",
       "      <td>0.027677</td>\n",
       "    </tr>\n",
       "  </tbody>\n",
       "</table>\n",
       "</div>"
      ],
      "text/plain": [
       "       from_address     to_address  txn_value  frac_vol\n",
       "1269  one1e...2uqv7  one1q...75u46  6000000.0  0.045226\n",
       "402   one17...r3kws  one1w...2xt26  5005062.3  0.037726\n",
       "523   one13...gecgr  one1w...2xt26  5000000.0  0.037688\n",
       "329   one1p...af0fu  one1c...2tk3x  4121333.0  0.031065\n",
       "345   one12...p38yr  one1m...kvnag  3671843.0  0.027677"
      ]
     },
     "execution_count": 51,
     "metadata": {},
     "output_type": "execute_result"
    }
   ],
   "source": [
    "df = df.sort_values(by='frac_vol', ascending=False).head(20)\n",
    "df.head()"
   ]
  },
  {
   "cell_type": "code",
   "execution_count": null,
   "metadata": {},
   "outputs": [],
   "source": []
  }
 ],
 "metadata": {
  "kernelspec": {
   "display_name": "Python 3",
   "language": "python",
   "name": "python3"
  },
  "language_info": {
   "codemirror_mode": {
    "name": "ipython",
    "version": 3
   },
   "file_extension": ".py",
   "mimetype": "text/x-python",
   "name": "python",
   "nbconvert_exporter": "python",
   "pygments_lexer": "ipython3",
   "version": "3.7.3"
  }
 },
 "nbformat": 4,
 "nbformat_minor": 2
}
