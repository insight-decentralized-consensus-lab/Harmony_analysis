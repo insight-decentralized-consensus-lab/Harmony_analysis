{
 "cells": [
  {
   "cell_type": "markdown",
   "metadata": {},
   "source": [
    "# Harmony analysis\n",
    "\n",
    "Mitchell / Isthmus\n",
    "\n",
    "Last 24 hours"
   ]
  },
  {
   "cell_type": "markdown",
   "metadata": {},
   "source": [
    "## Import libraries"
   ]
  },
  {
   "cell_type": "code",
   "execution_count": 1,
   "metadata": {},
   "outputs": [],
   "source": [
    "import pandas as pd;\n",
    "import numpy as np;\n",
    "import matplotlib.pyplot as plt;\n",
    "from matplotlib.ticker import PercentFormatter;"
   ]
  },
  {
   "cell_type": "markdown",
   "metadata": {},
   "source": [
    "## Import data"
   ]
  },
  {
   "cell_type": "code",
   "execution_count": 2,
   "metadata": {},
   "outputs": [
    {
     "data": {
      "text/html": [
       "<div>\n",
       "<style scoped>\n",
       "    .dataframe tbody tr th:only-of-type {\n",
       "        vertical-align: middle;\n",
       "    }\n",
       "\n",
       "    .dataframe tbody tr th {\n",
       "        vertical-align: top;\n",
       "    }\n",
       "\n",
       "    .dataframe thead th {\n",
       "        text-align: right;\n",
       "    }\n",
       "</style>\n",
       "<table border=\"1\" class=\"dataframe\">\n",
       "  <thead>\n",
       "    <tr style=\"text-align: right;\">\n",
       "      <th></th>\n",
       "      <th>from_address</th>\n",
       "      <th>to_address</th>\n",
       "      <th>txn_value</th>\n",
       "    </tr>\n",
       "  </thead>\n",
       "  <tbody>\n",
       "    <tr>\n",
       "      <th>0</th>\n",
       "      <td>one1e...hs206</td>\n",
       "      <td>one1w...2xt26</td>\n",
       "      <td>1.228590e+06</td>\n",
       "    </tr>\n",
       "    <tr>\n",
       "      <th>1</th>\n",
       "      <td>one18...zp09d</td>\n",
       "      <td>one1w...2xt26</td>\n",
       "      <td>3.071995e+06</td>\n",
       "    </tr>\n",
       "    <tr>\n",
       "      <th>2</th>\n",
       "      <td>one1t...2r54m</td>\n",
       "      <td>one10...p6gwz</td>\n",
       "      <td>1.200000e+01</td>\n",
       "    </tr>\n",
       "    <tr>\n",
       "      <th>3</th>\n",
       "      <td>one1w...2xt26</td>\n",
       "      <td>one10...qewsp</td>\n",
       "      <td>2.624584e+05</td>\n",
       "    </tr>\n",
       "    <tr>\n",
       "      <th>4</th>\n",
       "      <td>one1w...2xt26</td>\n",
       "      <td>one1u...ndaw4</td>\n",
       "      <td>7.223084e+04</td>\n",
       "    </tr>\n",
       "  </tbody>\n",
       "</table>\n",
       "</div>"
      ],
      "text/plain": [
       "    from_address     to_address     txn_value\n",
       "0  one1e...hs206  one1w...2xt26  1.228590e+06\n",
       "1  one18...zp09d  one1w...2xt26  3.071995e+06\n",
       "2  one1t...2r54m  one10...p6gwz  1.200000e+01\n",
       "3  one1w...2xt26  one10...qewsp  2.624584e+05\n",
       "4  one1w...2xt26  one1u...ndaw4  7.223084e+04"
      ]
     },
     "execution_count": 2,
     "metadata": {},
     "output_type": "execute_result"
    }
   ],
   "source": [
    "df = pd.read_csv('harmony_24_v2.csv', usecols=['from_address','to_address', 'txn_value']);\n",
    "df.head()"
   ]
  },
  {
   "cell_type": "markdown",
   "metadata": {},
   "source": [
    "## Group by address"
   ]
  },
  {
   "cell_type": "markdown",
   "metadata": {},
   "source": [
    "I don't think the next cell works "
   ]
  },
  {
   "cell_type": "code",
   "execution_count": 3,
   "metadata": {},
   "outputs": [],
   "source": [
    "from_temp = df[['from_address', 'txn_value']]\n",
    "df_sorted_from = from_temp.groupby(['from_address','txn_value']).sum().sort_values(by='txn_value', ascending=False)\n",
    "\n",
    "to_temp = df[['to_address', 'txn_value']]\n",
    "df_sorted_to = to_temp.groupby(['to_address','txn_value']).sum().sort_values(by='txn_value', ascending=False)"
   ]
  },
  {
   "cell_type": "markdown",
   "metadata": {},
   "source": [
    "## Analyze"
   ]
  },
  {
   "cell_type": "markdown",
   "metadata": {},
   "source": [
    "### Total txn value"
   ]
  },
  {
   "cell_type": "code",
   "execution_count": 4,
   "metadata": {},
   "outputs": [
    {
     "name": "stdout",
     "output_type": "stream",
     "text": [
      "Total transaction volume: 132667951 ONE\n",
      "Total transaction volume: 1459347 USF\n"
     ]
    }
   ],
   "source": [
    "ONE_USD = 0.011\n",
    "total_value = sum(from_temp['txn_value'])\n",
    "print('Total transaction volume: ' + str(round(total_value)) + ' ONE')\n",
    "print('Total transaction volume: ' + str(round(total_value*ONE_USD)) + ' USF')"
   ]
  },
  {
   "cell_type": "markdown",
   "metadata": {},
   "source": [
    "### Txn value distribution\n",
    "\n"
   ]
  },
  {
   "cell_type": "code",
   "execution_count": 27,
   "metadata": {},
   "outputs": [],
   "source": [
    "frac = list()\n",
    "node_depth = list() \n",
    "USD_val = list()\n",
    "for r in range(len(df)):\n",
    "    this_val = df['txn_value'][r] \n",
    "    frac.append(this_val/total_value)\n",
    "    node_depth.append(r/len(df))\n",
    "    USD_val.append(this_val*ONE_USD)\n",
    "    \n",
    "df['frac_vol'] = frac\n",
    "df['USD_val'] = USD_val"
   ]
  },
  {
   "cell_type": "code",
   "execution_count": 30,
   "metadata": {},
   "outputs": [
    {
     "data": {
      "text/html": [
       "<div>\n",
       "<style scoped>\n",
       "    .dataframe tbody tr th:only-of-type {\n",
       "        vertical-align: middle;\n",
       "    }\n",
       "\n",
       "    .dataframe tbody tr th {\n",
       "        vertical-align: top;\n",
       "    }\n",
       "\n",
       "    .dataframe thead th {\n",
       "        text-align: right;\n",
       "    }\n",
       "</style>\n",
       "<table border=\"1\" class=\"dataframe\">\n",
       "  <thead>\n",
       "    <tr style=\"text-align: right;\">\n",
       "      <th></th>\n",
       "      <th>from_address</th>\n",
       "      <th>to_address</th>\n",
       "      <th>txn_value</th>\n",
       "      <th>frac_vol</th>\n",
       "      <th>cum_frac_vol</th>\n",
       "      <th>USD_val</th>\n",
       "      <th>cum_USD</th>\n",
       "    </tr>\n",
       "  </thead>\n",
       "  <tbody>\n",
       "    <tr>\n",
       "      <th>1136</th>\n",
       "      <td>one1j...u04u8</td>\n",
       "      <td>one1x...n5949</td>\n",
       "      <td>0.000000e+00</td>\n",
       "      <td>0.045226</td>\n",
       "      <td>0.045226</td>\n",
       "      <td>66000.0000</td>\n",
       "      <td>66000.0000</td>\n",
       "    </tr>\n",
       "    <tr>\n",
       "      <th>80</th>\n",
       "      <td>one1r...aggs4</td>\n",
       "      <td>one1q...8wd2t</td>\n",
       "      <td>6.000000e+05</td>\n",
       "      <td>0.037726</td>\n",
       "      <td>0.082952</td>\n",
       "      <td>55055.6853</td>\n",
       "      <td>121055.6853</td>\n",
       "    </tr>\n",
       "    <tr>\n",
       "      <th>189</th>\n",
       "      <td>one1m...4qnr5</td>\n",
       "      <td>one1w...2xt26</td>\n",
       "      <td>3.780901e+05</td>\n",
       "      <td>0.037688</td>\n",
       "      <td>0.120640</td>\n",
       "      <td>55000.0000</td>\n",
       "      <td>176055.6853</td>\n",
       "    </tr>\n",
       "    <tr>\n",
       "      <th>1214</th>\n",
       "      <td>one1c...xfw2j</td>\n",
       "      <td>one1w...2xt26</td>\n",
       "      <td>3.427590e+05</td>\n",
       "      <td>0.031065</td>\n",
       "      <td>0.151705</td>\n",
       "      <td>45334.6630</td>\n",
       "      <td>221390.3483</td>\n",
       "    </tr>\n",
       "    <tr>\n",
       "      <th>448</th>\n",
       "      <td>one1w...2xt26</td>\n",
       "      <td>one1u...7skjh</td>\n",
       "      <td>2.082000e+06</td>\n",
       "      <td>0.027677</td>\n",
       "      <td>0.179382</td>\n",
       "      <td>40390.2730</td>\n",
       "      <td>261780.6213</td>\n",
       "    </tr>\n",
       "  </tbody>\n",
       "</table>\n",
       "</div>"
      ],
      "text/plain": [
       "       from_address     to_address     txn_value  frac_vol  cum_frac_vol  \\\n",
       "1136  one1j...u04u8  one1x...n5949  0.000000e+00  0.045226      0.045226   \n",
       "80    one1r...aggs4  one1q...8wd2t  6.000000e+05  0.037726      0.082952   \n",
       "189   one1m...4qnr5  one1w...2xt26  3.780901e+05  0.037688      0.120640   \n",
       "1214  one1c...xfw2j  one1w...2xt26  3.427590e+05  0.031065      0.151705   \n",
       "448   one1w...2xt26  one1u...7skjh  2.082000e+06  0.027677      0.179382   \n",
       "\n",
       "         USD_val      cum_USD  \n",
       "1136  66000.0000   66000.0000  \n",
       "80    55055.6853  121055.6853  \n",
       "189   55000.0000  176055.6853  \n",
       "1214  45334.6630  221390.3483  \n",
       "448   40390.2730  261780.6213  "
      ]
     },
     "execution_count": 30,
     "metadata": {},
     "output_type": "execute_result"
    }
   ],
   "source": [
    "df = df.sort_values(by='frac_vol', ascending=False)\n",
    "df['cum_frac_vol'] = df['frac_vol'].cumsum()\n",
    "df['cum_USD'] = df['USD_val'].cumsum()\n",
    "df.head()"
   ]
  },
  {
   "cell_type": "code",
   "execution_count": 24,
   "metadata": {},
   "outputs": [
    {
     "data": {
      "text/plain": [
       "Text(0, 0.5, '... explain Y fraction of value transfer')"
      ]
     },
     "execution_count": 24,
     "metadata": {},
     "output_type": "execute_result"
    },
    {
     "data": {
      "image/png": "[encoded data removed]",
      "text/plain": [
       "<Figure size 432x288 with 1 Axes>"
      ]
     },
     "metadata": {
      "needs_background": "light"
     },
     "output_type": "display_data"
    }
   ],
   "source": [
    "plt.plot(node_depth, df['cum_frac_vol'])\n",
    "plt.xlabel('The top X fraction of txns ...')\n",
    "plt.ylabel('... explain Y fraction of value transfer')"
   ]
  },
  {
   "cell_type": "code",
   "execution_count": 40,
   "metadata": {},
   "outputs": [
    {
     "data": {
      "text/plain": [
       "<matplotlib.lines.Line2D at 0x11662e438>"
      ]
     },
     "execution_count": 40,
     "metadata": {},
     "output_type": "execute_result"
    },
    {
     "data": {
      "image/png": "[encoded data removed]",
      "text/plain": [
       "<Figure size 432x288 with 1 Axes>"
      ]
     },
     "metadata": {
      "needs_background": "light"
     },
     "output_type": "display_data"
    }
   ],
   "source": [
    "plt.plot(node_depth, df['cum_frac_vol'])\n",
    "plt.xlabel('The top X fraction of txns ...')\n",
    "plt.ylabel('... explain Y fraction of value transfer')\n",
    "plt.xscale('log')\n",
    "plt.axvline(x=0.1)\n",
    "plt.axhline(y=0.82)\n",
    "#plt.yscale('log')"
   ]
  },
  {
   "cell_type": "code",
   "execution_count": 37,
   "metadata": {},
   "outputs": [
    {
     "data": {
      "text/plain": [
       "<matplotlib.lines.Line2D at 0x1166556d8>"
      ]
     },
     "execution_count": 37,
     "metadata": {},
     "output_type": "execute_result"
    },
    {
     "data": {
      "image/png": "[encoded data removed]",
      "text/plain": [
       "<Figure size 432x288 with 1 Axes>"
      ]
     },
     "metadata": {
      "needs_background": "light"
     },
     "output_type": "display_data"
    }
   ],
   "source": [
    "plt.plot(node_depth, df['cum_USD'])\n",
    "plt.xlabel('The top X fraction of txns ...')\n",
    "plt.ylabel('... explain $Y of volume')\n",
    "plt.xscale('log')\n",
    "plt.axvline(x=0.1)\n",
    "plt.axhline(y=1200000)\n",
    "#plt.yscale('log')"
   ]
  },
  {
   "cell_type": "code",
   "execution_count": 43,
   "metadata": {},
   "outputs": [],
   "source": [
    "# Market share"
   ]
  },
  {
   "cell_type": "code",
   "execution_count": 44,
   "metadata": {},
   "outputs": [
    {
     "data": {
      "text/plain": [
       "7.537615491007427e-05"
      ]
     },
     "execution_count": 44,
     "metadata": {},
     "output_type": "execute_result"
    }
   ],
   "source": [
    "total_value*ONE_USD - 120000\n",
    "target = 10000\n",
    "target/total_value"
   ]
  }
 ],
 "metadata": {
  "kernelspec": {
   "display_name": "Python 3",
   "language": "python",
   "name": "python3"
  },
  "language_info": {
   "codemirror_mode": {
    "name": "ipython",
    "version": 3
   },
   "file_extension": ".py",
   "mimetype": "text/x-python",
   "name": "python",
   "nbconvert_exporter": "python",
   "pygments_lexer": "ipython3",
   "version": "3.7.3"
  }
 },
 "nbformat": 4,
 "nbformat_minor": 2
}
