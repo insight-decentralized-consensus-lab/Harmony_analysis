{
 "cells": [
  {
   "cell_type": "markdown",
   "metadata": {},
   "source": [
    "# Harmony analysis\n",
    "\n",
    "Mitchell / Isthmus\n",
    "\n",
    "Last 24 hours"
   ]
  },
  {
   "cell_type": "markdown",
   "metadata": {},
   "source": [
    "## Import libraries"
   ]
  },
  {
   "cell_type": "code",
   "execution_count": 1,
   "metadata": {},
   "outputs": [],
   "source": [
    "import pandas as pd;\n",
    "import numpy as np;\n",
    "import matplotlib.pyplot as plt;\n",
    "from matplotlib.ticker import PercentFormatter;"
   ]
  },
  {
   "cell_type": "markdown",
   "metadata": {},
   "source": [
    "## Import data"
   ]
  },
  {
   "cell_type": "code",
   "execution_count": 2,
   "metadata": {},
   "outputs": [
    {
     "data": {
      "text/html": [
       "<div>\n",
       "<style scoped>\n",
       "    .dataframe tbody tr th:only-of-type {\n",
       "        vertical-align: middle;\n",
       "    }\n",
       "\n",
       "    .dataframe tbody tr th {\n",
       "        vertical-align: top;\n",
       "    }\n",
       "\n",
       "    .dataframe thead th {\n",
       "        text-align: right;\n",
       "    }\n",
       "</style>\n",
       "<table border=\"1\" class=\"dataframe\">\n",
       "  <thead>\n",
       "    <tr style=\"text-align: right;\">\n",
       "      <th></th>\n",
       "      <th>from_address</th>\n",
       "      <th>to_address</th>\n",
       "      <th>txn_value</th>\n",
       "    </tr>\n",
       "  </thead>\n",
       "  <tbody>\n",
       "    <tr>\n",
       "      <th>0</th>\n",
       "      <td>one1e...hs206</td>\n",
       "      <td>one1w...2xt26</td>\n",
       "      <td>1.228590e+06</td>\n",
       "    </tr>\n",
       "    <tr>\n",
       "      <th>1</th>\n",
       "      <td>one18...zp09d</td>\n",
       "      <td>one1w...2xt26</td>\n",
       "      <td>3.071995e+06</td>\n",
       "    </tr>\n",
       "    <tr>\n",
       "      <th>2</th>\n",
       "      <td>one1t...2r54m</td>\n",
       "      <td>one10...p6gwz</td>\n",
       "      <td>1.200000e+01</td>\n",
       "    </tr>\n",
       "    <tr>\n",
       "      <th>3</th>\n",
       "      <td>one1w...2xt26</td>\n",
       "      <td>one10...qewsp</td>\n",
       "      <td>2.624584e+05</td>\n",
       "    </tr>\n",
       "    <tr>\n",
       "      <th>4</th>\n",
       "      <td>one1w...2xt26</td>\n",
       "      <td>one1u...ndaw4</td>\n",
       "      <td>7.223084e+04</td>\n",
       "    </tr>\n",
       "  </tbody>\n",
       "</table>\n",
       "</div>"
      ],
      "text/plain": [
       "    from_address     to_address     txn_value\n",
       "0  one1e...hs206  one1w...2xt26  1.228590e+06\n",
       "1  one18...zp09d  one1w...2xt26  3.071995e+06\n",
       "2  one1t...2r54m  one10...p6gwz  1.200000e+01\n",
       "3  one1w...2xt26  one10...qewsp  2.624584e+05\n",
       "4  one1w...2xt26  one1u...ndaw4  7.223084e+04"
      ]
     },
     "execution_count": 2,
     "metadata": {},
     "output_type": "execute_result"
    }
   ],
   "source": [
    "df = pd.read_csv('harmony_24_v2.csv', usecols=['from_address','to_address', 'txn_value']);\n",
    "df.head()"
   ]
  },
  {
   "cell_type": "markdown",
   "metadata": {},
   "source": [
    "## Group by address"
   ]
  },
  {
   "cell_type": "markdown",
   "metadata": {},
   "source": [
    "I don't think the next cell works "
   ]
  },
  {
   "cell_type": "code",
   "execution_count": 3,
   "metadata": {},
   "outputs": [],
   "source": [
    "from_temp = df[['from_address', 'txn_value']]\n",
    "df_sorted_from = from_temp.groupby(['from_address','txn_value']).sum().sort_values(by='txn_value', ascending=False)\n",
    "\n",
    "to_temp = df[['to_address', 'txn_value']]\n",
    "df_sorted_to = to_temp.groupby(['to_address','txn_value']).sum().sort_values(by='txn_value', ascending=False)"
   ]
  },
  {
   "cell_type": "markdown",
   "metadata": {},
   "source": [
    "## Analyze"
   ]
  },
  {
   "cell_type": "markdown",
   "metadata": {},
   "source": [
    "### Total txn value"
   ]
  },
  {
   "cell_type": "code",
   "execution_count": 4,
   "metadata": {},
   "outputs": [
    {
     "name": "stdout",
     "output_type": "stream",
     "text": [
      "Total transaction volume: 132667951 ONE\n",
      "Total transaction volume: 1459347 USF\n"
     ]
    }
   ],
   "source": [
    "ONE_USD = 0.011\n",
    "total_value = sum(from_temp['txn_value'])\n",
    "print('Total transaction volume: ' + str(round(total_value)) + ' ONE')\n",
    "print('Total transaction volume: ' + str(round(total_value*ONE_USD)) + ' USF')"
   ]
  },
  {
   "cell_type": "markdown",
   "metadata": {},
   "source": [
    "### Txn value distribution\n",
    "\n"
   ]
  },
  {
   "cell_type": "code",
   "execution_count": 14,
   "metadata": {},
   "outputs": [],
   "source": [
    "frac = list()\n",
    "node_depth = list() \n",
    "for r in range(len(df)):\n",
    "    this_val = df['txn_value'][r] \n",
    "    frac.append(this_val/total_value)\n",
    "    node_depth.append(r/len(df))\n",
    "    \n",
    "df['frac_vol'] = frac"
   ]
  },
  {
   "cell_type": "code",
   "execution_count": 15,
   "metadata": {},
   "outputs": [
    {
     "data": {
      "text/html": [
       "<div>\n",
       "<style scoped>\n",
       "    .dataframe tbody tr th:only-of-type {\n",
       "        vertical-align: middle;\n",
       "    }\n",
       "\n",
       "    .dataframe tbody tr th {\n",
       "        vertical-align: top;\n",
       "    }\n",
       "\n",
       "    .dataframe thead th {\n",
       "        text-align: right;\n",
       "    }\n",
       "</style>\n",
       "<table border=\"1\" class=\"dataframe\">\n",
       "  <thead>\n",
       "    <tr style=\"text-align: right;\">\n",
       "      <th></th>\n",
       "      <th>from_address</th>\n",
       "      <th>to_address</th>\n",
       "      <th>txn_value</th>\n",
       "      <th>frac_vol</th>\n",
       "      <th>cum_frac_vol</th>\n",
       "    </tr>\n",
       "  </thead>\n",
       "  <tbody>\n",
       "    <tr>\n",
       "      <th>724</th>\n",
       "      <td>one13...5l7c9</td>\n",
       "      <td>one10...77zxr</td>\n",
       "      <td>0.0000</td>\n",
       "      <td>0.045226</td>\n",
       "      <td>0.045226</td>\n",
       "    </tr>\n",
       "    <tr>\n",
       "      <th>38</th>\n",
       "      <td>one1w...2xt26</td>\n",
       "      <td>one19...29aej</td>\n",
       "      <td>2460.0990</td>\n",
       "      <td>0.037726</td>\n",
       "      <td>0.082952</td>\n",
       "    </tr>\n",
       "    <tr>\n",
       "      <th>59</th>\n",
       "      <td>one18...wqfss</td>\n",
       "      <td>one18...8ggj7</td>\n",
       "      <td>11.0000</td>\n",
       "      <td>0.037688</td>\n",
       "      <td>0.120640</td>\n",
       "    </tr>\n",
       "    <tr>\n",
       "      <th>67</th>\n",
       "      <td>one1x...vn2tk</td>\n",
       "      <td>one15...gjstu</td>\n",
       "      <td>16016.9960</td>\n",
       "      <td>0.031065</td>\n",
       "      <td>0.151705</td>\n",
       "    </tr>\n",
       "    <tr>\n",
       "      <th>13</th>\n",
       "      <td>one1w...2xt26</td>\n",
       "      <td>one1n...m8y26</td>\n",
       "      <td>10394.5195</td>\n",
       "      <td>0.027677</td>\n",
       "      <td>0.179382</td>\n",
       "    </tr>\n",
       "  </tbody>\n",
       "</table>\n",
       "</div>"
      ],
      "text/plain": [
       "      from_address     to_address   txn_value  frac_vol  cum_frac_vol\n",
       "724  one13...5l7c9  one10...77zxr      0.0000  0.045226      0.045226\n",
       "38   one1w...2xt26  one19...29aej   2460.0990  0.037726      0.082952\n",
       "59   one18...wqfss  one18...8ggj7     11.0000  0.037688      0.120640\n",
       "67   one1x...vn2tk  one15...gjstu  16016.9960  0.031065      0.151705\n",
       "13   one1w...2xt26  one1n...m8y26  10394.5195  0.027677      0.179382"
      ]
     },
     "execution_count": 15,
     "metadata": {},
     "output_type": "execute_result"
    }
   ],
   "source": [
    "df = df.sort_values(by='frac_vol', ascending=False)\n",
    "df['cum_frac_vol'] = df['frac_vol'].cumsum()\n",
    "df.head()"
   ]
  },
  {
   "cell_type": "code",
   "execution_count": 24,
   "metadata": {},
   "outputs": [
    {
     "data": {
      "text/plain": [
       "Text(0, 0.5, '... explain Y fraction of value transfer')"
      ]
     },
     "execution_count": 24,
     "metadata": {},
     "output_type": "execute_result"
    },
    {
     "data": {
      "image/png": "[encoded data removed]",
      "text/plain": [
       "<Figure size 432x288 with 1 Axes>"
      ]
     },
     "metadata": {
      "needs_background": "light"
     },
     "output_type": "display_data"
    }
   ],
   "source": [
    "plt.plot(node_depth, df['cum_frac_vol'])\n",
    "plt.xlabel('The top X fraction of txns ...')\n",
    "plt.ylabel('... explain Y fraction of value transfer')"
   ]
  },
  {
   "cell_type": "code",
   "execution_count": 26,
   "metadata": {},
   "outputs": [
    {
     "data": {
      "image/png": "[encoded data removed]",
      "text/plain": [
       "<Figure size 432x288 with 1 Axes>"
      ]
     },
     "metadata": {
      "needs_background": "light"
     },
     "output_type": "display_data"
    }
   ],
   "source": [
    "plt.plot(node_depth, df['cum_frac_vol'])\n",
    "plt.xlabel('The top X fraction of txns ...')\n",
    "plt.ylabel('... explain Y fraction of value transfer')\n",
    "plt.xscale('log')\n",
    "#plt.yscale('log')"
   ]
  }
 ],
 "metadata": {
  "kernelspec": {
   "display_name": "Python 3",
   "language": "python",
   "name": "python3"
  },
  "language_info": {
   "codemirror_mode": {
    "name": "ipython",
    "version": 3
   },
   "file_extension": ".py",
   "mimetype": "text/x-python",
   "name": "python",
   "nbconvert_exporter": "python",
   "pygments_lexer": "ipython3",
   "version": "3.7.3"
  }
 },
 "nbformat": 4,
 "nbformat_minor": 2
}
